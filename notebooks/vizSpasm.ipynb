{
 "cells": [
  {
   "cell_type": "markdown",
   "metadata": {
    "slideshow": {
     "slide_type": "slide"
    }
   },
   "source": [
    "## Introduction to visualizing data in the eeghdf files"
   ]
  },
  {
   "cell_type": "code",
   "execution_count": 17,
   "metadata": {
    "collapsed": true,
    "slideshow": {
     "slide_type": "fragment"
    }
   },
   "outputs": [],
   "source": [
    "# %load explore-eeghdf-files-basics.py\n",
    "# Here is an example of how to do basic exploration of what is in the eeghdf file. I show how to discover the fields in the file and to plot them.\n",
    "# \n",
    "# I have copied the stacklineplot from my python-edf/examples code to help with display. Maybe I will put this as a helper or put it out as a utility package to make it easier to install.\n",
    "\n",
    "from __future__ import print_function, division, unicode_literals\n",
    "%matplotlib inline\n",
    "# %matplotlib notebook\n",
    "\n",
    "import matplotlib\n",
    "import matplotlib.pyplot as plt\n",
    "#import seaborn\n",
    "import pandas as pd\n",
    "import numpy as np\n",
    "import h5py\n",
    "from pprint import pprint\n",
    "\n",
    "import stacklineplot\n",
    "\n",
    "\n",
    "# matplotlib.rcParams['figure.figsize'] = (18.0, 12.0)\n",
    "matplotlib.rcParams['figure.figsize'] = (12.0, 8.0)"
   ]
  },
  {
   "cell_type": "code",
   "execution_count": 26,
   "metadata": {
    "collapsed": false,
    "slideshow": {
     "slide_type": "slide"
    }
   },
   "outputs": [],
   "source": [
    "\n",
    "hdf = h5py.File('./archive/YA2741BS_1-1+.eeghdf') # 5mo boy "
   ]
  },
  {
   "cell_type": "code",
   "execution_count": 27,
   "metadata": {
    "collapsed": false,
    "slideshow": {
     "slide_type": "subslide"
    }
   },
   "outputs": [
    {
     "name": "stdout",
     "output_type": "stream",
     "text": [
      "[('patient', <HDF5 group \"/patient\" (0 members)>),\n",
      " ('record-0', <HDF5 group \"/record-0\" (10 members)>)]\n",
      "[('patient_name', '906, Subject'),\n",
      " ('patientcode', '0bf1acf3d68c50938e6f9dd40906f3ad'),\n",
      " ('gender', 'Male'),\n",
      " ('birthdate', '1990-01-01'),\n",
      " ('patient_additional', ''),\n",
      " ('gestatational_age_at_birth_days', -1.0),\n",
      " ('born_premature', 'unknown')]\n"
     ]
    }
   ],
   "source": [
    "pprint(list(hdf.items()))\n",
    "pprint(list(hdf['patient'].attrs.items()))"
   ]
  },
  {
   "cell_type": "code",
   "execution_count": 28,
   "metadata": {
    "collapsed": false,
    "slideshow": {
     "slide_type": "slide"
    }
   },
   "outputs": [
    {
     "name": "stdout",
     "output_type": "stream",
     "text": [
      "[('edf_annotations', <HDF5 group \"/record-0/edf_annotations\" (3 members)>),\n",
      " ('physical_dimensions',\n",
      "  <HDF5 dataset \"physical_dimensions\": shape (36,), type \"|O\">),\n",
      " ('prefilters', <HDF5 dataset \"prefilters\": shape (36,), type \"|O\">),\n",
      " ('signal_digital_maxs',\n",
      "  <HDF5 dataset \"signal_digital_maxs\": shape (36,), type \"<i4\">),\n",
      " ('signal_digital_mins',\n",
      "  <HDF5 dataset \"signal_digital_mins\": shape (36,), type \"<i4\">),\n",
      " ('signal_labels', <HDF5 dataset \"signal_labels\": shape (36,), type \"|O\">),\n",
      " ('signal_physical_maxs',\n",
      "  <HDF5 dataset \"signal_physical_maxs\": shape (36,), type \"<f8\">),\n",
      " ('signal_physical_mins',\n",
      "  <HDF5 dataset \"signal_physical_mins\": shape (36,), type \"<f8\">),\n",
      " ('signals', <HDF5 dataset \"signals\": shape (36, 446000), type \"<i2\">),\n",
      " ('transducers', <HDF5 dataset \"transducers\": shape (36,), type \"|O\">)]\n",
      "[('start_isodatetime', '1990-06-17 13:20:56'),\n",
      " ('end_isodatetime', '1990-06-17 13:58:06'),\n",
      " ('number_channels', 36),\n",
      " ('number_samples_per_channel', 446000),\n",
      " ('sample_frequency', 200.00000000000003),\n",
      " ('bits_per_sample', 16),\n",
      " ('technician', ''),\n",
      " ('patient_age_days', 167.55620370370372)]\n",
      "'age in years: 0.459058092339'\n"
     ]
    }
   ],
   "source": [
    "rec = hdf['record-0']\n",
    "pprint(list(rec.items()))\n",
    "pprint(list(rec.attrs.items()))\n",
    "years_old = rec.attrs['patient_age_days']/365\n",
    "pprint(\"age in years: %s\" % years_old)"
   ]
  },
  {
   "cell_type": "code",
   "execution_count": 29,
   "metadata": {
    "collapsed": true,
    "slideshow": {
     "slide_type": "slide"
    }
   },
   "outputs": [],
   "source": [
    "signals = rec['signals']\n",
    "labels = rec['signal_labels']\n",
    "electrode_labels = [str(s,'ascii') for s in labels]\n",
    "numbered_electrode_labels = [\"%d:%s\" % (ii, str(labels[ii], 'ascii')) for ii in range(len(labels))]"
   ]
  },
  {
   "cell_type": "markdown",
   "metadata": {
    "slideshow": {
     "slide_type": "slide"
    }
   },
   "source": [
    "#### Simple visualization of EEG (electrodecrement seizure pattern)"
   ]
  },
  {
   "cell_type": "code",
   "execution_count": 30,
   "metadata": {
    "collapsed": false,
    "scrolled": false,
    "slideshow": {
     "slide_type": "fragment"
    }
   },
   "outputs": [
    {
     "name": "stdout",
     "output_type": "stream",
     "text": [
      "epoch: 53\n"
     ]
    }
   ],
   "source": [
    "# plot 10s epochs (multiples in DE)\n",
    "ch0, ch1 = (0,19)\n",
    "DE = 2 # how many 10s epochs to display\n",
    "epoch = 53; ptepoch = 10*int(rec.attrs['sample_frequency'])\n",
    "dp = int(0.5*ptepoch)\n",
    "# stacklineplot.stackplot(signals[ch0:ch1,epoch*ptepoch+dp:(epoch+DE)*ptepoch+dp],seconds=DE*10.0, ylabels=electrode_labels[ch0:ch1], yscale=0.3)\n",
    "print(\"epoch:\", epoch)\n",
    "\n"
   ]
  },
  {
   "cell_type": "code",
   "execution_count": 48,
   "metadata": {
    "collapsed": false
   },
   "outputs": [
    {
     "data": {
      "image/png": "[encoded data removed]",
      "text/plain": [
       "<matplotlib.figure.Figure at 0x7f277bb2d4e0>"
      ]
     },
     "metadata": {},
     "output_type": "display_data"
    }
   ],
   "source": [
    "# search identified spasms at 1836, 1871, 1901, 1939\n",
    "stacklineplot.show_epoch_centered(signals, 1939,\n",
    "                        epoch_width_sec=15,\n",
    "                        chstart=0, chstop=19, fs=rec.attrs['sample_frequency'],\n",
    "                        ylabels=electrode_labels, yscale=3.0)\n",
    "\n"
   ]
  },
  {
   "cell_type": "code",
   "execution_count": 32,
   "metadata": {
    "collapsed": false,
    "slideshow": {
     "slide_type": "skip"
    }
   },
   "outputs": [],
   "source": [
    "annot = rec['edf_annotations']\n",
    "#print(list(annot.items()))\n",
    "#annot['texts'][:]"
   ]
  },
  {
   "cell_type": "code",
   "execution_count": 33,
   "metadata": {
    "collapsed": false
   },
   "outputs": [
    {
     "data": {
      "text/plain": [
       "(36, 446000)"
      ]
     },
     "execution_count": 33,
     "metadata": {},
     "output_type": "execute_result"
    }
   ],
   "source": [
    "signals.shape"
   ]
  },
  {
   "cell_type": "code",
   "execution_count": 34,
   "metadata": {
    "collapsed": false,
    "slideshow": {
     "slide_type": "skip"
    }
   },
   "outputs": [
    {
     "data": {
      "text/plain": [
       "(66, 66)"
      ]
     },
     "execution_count": 34,
     "metadata": {},
     "output_type": "execute_result"
    }
   ],
   "source": [
    "antext = [s.decode('utf-8') for s in annot['texts'][:]]\n",
    "starts100ns = [xx for xx in annot['starts_100ns'][:]]\n",
    "len(starts100ns), len(antext)"
   ]
  },
  {
   "cell_type": "code",
   "execution_count": 35,
   "metadata": {
    "collapsed": true,
    "slideshow": {
     "slide_type": "slide"
    }
   },
   "outputs": [],
   "source": [
    "import pandas as pd"
   ]
  },
  {
   "cell_type": "code",
   "execution_count": 36,
   "metadata": {
    "collapsed": false,
    "slideshow": {
     "slide_type": "fragment"
    }
   },
   "outputs": [],
   "source": [
    "df = pd.DataFrame(data=antext, columns=['text'])\n",
    "df['starts100ns'] = starts100ns\n",
    "df['starts_sec'] = df['starts100ns']/10**7"
   ]
  },
  {
   "cell_type": "code",
   "execution_count": 37,
   "metadata": {
    "collapsed": false,
    "slideshow": {
     "slide_type": "slide"
    }
   },
   "outputs": [
    {
     "data": {
      "text/html": [
       "<div>\n",
       "<table border=\"1\" class=\"dataframe\">\n",
       "  <thead>\n",
       "    <tr style=\"text-align: right;\">\n",
       "      <th></th>\n",
       "      <th>text</th>\n",
       "      <th>starts100ns</th>\n",
       "      <th>starts_sec</th>\n",
       "    </tr>\n",
       "  </thead>\n",
       "  <tbody>\n",
       "    <tr>\n",
       "      <th>0</th>\n",
       "      <td>REC START Biocal CAL</td>\n",
       "      <td>0</td>\n",
       "      <td>0.000</td>\n",
       "    </tr>\n",
       "    <tr>\n",
       "      <th>1</th>\n",
       "      <td>A1+A2 OFF</td>\n",
       "      <td>11400000</td>\n",
       "      <td>1.140</td>\n",
       "    </tr>\n",
       "    <tr>\n",
       "      <th>2</th>\n",
       "      <td>PAT Biocal EEG</td>\n",
       "      <td>61900000</td>\n",
       "      <td>6.190</td>\n",
       "    </tr>\n",
       "    <tr>\n",
       "      <th>3</th>\n",
       "      <td>PAT A_DB EEG</td>\n",
       "      <td>114200000</td>\n",
       "      <td>11.420</td>\n",
       "    </tr>\n",
       "    <tr>\n",
       "      <th>4</th>\n",
       "      <td>IMP CHECK ON</td>\n",
       "      <td>564500000</td>\n",
       "      <td>56.450</td>\n",
       "    </tr>\n",
       "    <tr>\n",
       "      <th>5</th>\n",
       "      <td>IMP CHECK OFF</td>\n",
       "      <td>593500000</td>\n",
       "      <td>59.350</td>\n",
       "    </tr>\n",
       "    <tr>\n",
       "      <th>6</th>\n",
       "      <td>resting on right sid</td>\n",
       "      <td>731150000</td>\n",
       "      <td>73.115</td>\n",
       "    </tr>\n",
       "    <tr>\n",
       "      <th>7</th>\n",
       "      <td>head on right side</td>\n",
       "      <td>772180000</td>\n",
       "      <td>77.218</td>\n",
       "    </tr>\n",
       "    <tr>\n",
       "      <th>8</th>\n",
       "      <td>head on neckroll</td>\n",
       "      <td>809810000</td>\n",
       "      <td>80.981</td>\n",
       "    </tr>\n",
       "    <tr>\n",
       "      <th>9</th>\n",
       "      <td>nursnig quietly</td>\n",
       "      <td>856350000</td>\n",
       "      <td>85.635</td>\n",
       "    </tr>\n",
       "    <tr>\n",
       "      <th>10</th>\n",
       "      <td>01 spike wave</td>\n",
       "      <td>1661970000</td>\n",
       "      <td>166.197</td>\n",
       "    </tr>\n",
       "    <tr>\n",
       "      <th>11</th>\n",
       "      <td>nursing quietly</td>\n",
       "      <td>2262760000</td>\n",
       "      <td>226.276</td>\n",
       "    </tr>\n",
       "    <tr>\n",
       "      <th>12</th>\n",
       "      <td>head movement</td>\n",
       "      <td>2429420000</td>\n",
       "      <td>242.942</td>\n",
       "    </tr>\n",
       "    <tr>\n",
       "      <th>13</th>\n",
       "      <td>whimpering</td>\n",
       "      <td>2543050000</td>\n",
       "      <td>254.305</td>\n",
       "    </tr>\n",
       "    <tr>\n",
       "      <th>14</th>\n",
       "      <td>nursing again</td>\n",
       "      <td>2668330000</td>\n",
       "      <td>266.833</td>\n",
       "    </tr>\n",
       "    <tr>\n",
       "      <th>15</th>\n",
       "      <td>PAT B_IPSIEARS EEG</td>\n",
       "      <td>3041200000</td>\n",
       "      <td>304.120</td>\n",
       "    </tr>\n",
       "    <tr>\n",
       "      <th>16</th>\n",
       "      <td>PAT G_CIRCLE EEG</td>\n",
       "      <td>3682900000</td>\n",
       "      <td>368.290</td>\n",
       "    </tr>\n",
       "    <tr>\n",
       "      <th>17</th>\n",
       "      <td>PAT J_T1/T2 EEG</td>\n",
       "      <td>4924600000</td>\n",
       "      <td>492.460</td>\n",
       "    </tr>\n",
       "    <tr>\n",
       "      <th>18</th>\n",
       "      <td>sleeping quietly</td>\n",
       "      <td>4969760000</td>\n",
       "      <td>496.976</td>\n",
       "    </tr>\n",
       "    <tr>\n",
       "      <th>19</th>\n",
       "      <td>done nursing</td>\n",
       "      <td>5303080000</td>\n",
       "      <td>530.308</td>\n",
       "    </tr>\n",
       "    <tr>\n",
       "      <th>20</th>\n",
       "      <td>PAT A_DB EEG</td>\n",
       "      <td>6245300000</td>\n",
       "      <td>624.530</td>\n",
       "    </tr>\n",
       "    <tr>\n",
       "      <th>21</th>\n",
       "      <td>quietly sleeping</td>\n",
       "      <td>6387370000</td>\n",
       "      <td>638.737</td>\n",
       "    </tr>\n",
       "    <tr>\n",
       "      <th>22</th>\n",
       "      <td>R spindles</td>\n",
       "      <td>6948450000</td>\n",
       "      <td>694.845</td>\n",
       "    </tr>\n",
       "    <tr>\n",
       "      <th>23</th>\n",
       "      <td>R spindles</td>\n",
       "      <td>7391120000</td>\n",
       "      <td>739.112</td>\n",
       "    </tr>\n",
       "    <tr>\n",
       "      <th>24</th>\n",
       "      <td>R sleep spindles</td>\n",
       "      <td>7637360000</td>\n",
       "      <td>763.736</td>\n",
       "    </tr>\n",
       "    <tr>\n",
       "      <th>25</th>\n",
       "      <td>sleeping quietly</td>\n",
       "      <td>8069910000</td>\n",
       "      <td>806.991</td>\n",
       "    </tr>\n",
       "    <tr>\n",
       "      <th>26</th>\n",
       "      <td>R sleep spindles</td>\n",
       "      <td>9620170000</td>\n",
       "      <td>962.017</td>\n",
       "    </tr>\n",
       "    <tr>\n",
       "      <th>27</th>\n",
       "      <td>sleeping quietly</td>\n",
       "      <td>10266330000</td>\n",
       "      <td>1026.633</td>\n",
       "    </tr>\n",
       "    <tr>\n",
       "      <th>28</th>\n",
       "      <td>awakening pt</td>\n",
       "      <td>12977750000</td>\n",
       "      <td>1297.775</td>\n",
       "    </tr>\n",
       "    <tr>\n",
       "      <th>29</th>\n",
       "      <td>mom talking to baby</td>\n",
       "      <td>13062420000</td>\n",
       "      <td>1306.242</td>\n",
       "    </tr>\n",
       "    <tr>\n",
       "      <th>...</th>\n",
       "      <td>...</td>\n",
       "      <td>...</td>\n",
       "      <td>...</td>\n",
       "    </tr>\n",
       "    <tr>\n",
       "      <th>36</th>\n",
       "      <td>holding rattle w/ bo</td>\n",
       "      <td>14787490000</td>\n",
       "      <td>1478.749</td>\n",
       "    </tr>\n",
       "    <tr>\n",
       "      <th>37</th>\n",
       "      <td>smiling</td>\n",
       "      <td>15278720000</td>\n",
       "      <td>1527.872</td>\n",
       "    </tr>\n",
       "    <tr>\n",
       "      <th>38</th>\n",
       "      <td>stretching</td>\n",
       "      <td>15416540000</td>\n",
       "      <td>1541.654</td>\n",
       "    </tr>\n",
       "    <tr>\n",
       "      <th>39</th>\n",
       "      <td>laying happily on be</td>\n",
       "      <td>15769740000</td>\n",
       "      <td>1576.974</td>\n",
       "    </tr>\n",
       "    <tr>\n",
       "      <th>40</th>\n",
       "      <td>smiling</td>\n",
       "      <td>16119960000</td>\n",
       "      <td>1611.996</td>\n",
       "    </tr>\n",
       "    <tr>\n",
       "      <th>41</th>\n",
       "      <td>PHOTO 2Hz</td>\n",
       "      <td>16724300000</td>\n",
       "      <td>1672.430</td>\n",
       "    </tr>\n",
       "    <tr>\n",
       "      <th>42</th>\n",
       "      <td>PHOTO 4Hz</td>\n",
       "      <td>16826500000</td>\n",
       "      <td>1682.650</td>\n",
       "    </tr>\n",
       "    <tr>\n",
       "      <th>43</th>\n",
       "      <td>staring right at lig</td>\n",
       "      <td>16856500000</td>\n",
       "      <td>1685.650</td>\n",
       "    </tr>\n",
       "    <tr>\n",
       "      <th>44</th>\n",
       "      <td>PHOTO 6Hz</td>\n",
       "      <td>16925800000</td>\n",
       "      <td>1692.580</td>\n",
       "    </tr>\n",
       "    <tr>\n",
       "      <th>45</th>\n",
       "      <td>PHOTO 8Hz</td>\n",
       "      <td>17026000000</td>\n",
       "      <td>1702.600</td>\n",
       "    </tr>\n",
       "    <tr>\n",
       "      <th>46</th>\n",
       "      <td>PHOTO 10Hz</td>\n",
       "      <td>17126000000</td>\n",
       "      <td>1712.600</td>\n",
       "    </tr>\n",
       "    <tr>\n",
       "      <th>47</th>\n",
       "      <td>PHOTO 12Hz</td>\n",
       "      <td>17225900000</td>\n",
       "      <td>1722.590</td>\n",
       "    </tr>\n",
       "    <tr>\n",
       "      <th>48</th>\n",
       "      <td>PHOTO 14Hz</td>\n",
       "      <td>17326100000</td>\n",
       "      <td>1732.610</td>\n",
       "    </tr>\n",
       "    <tr>\n",
       "      <th>49</th>\n",
       "      <td>PHOTO 16Hz</td>\n",
       "      <td>17425900000</td>\n",
       "      <td>1742.590</td>\n",
       "    </tr>\n",
       "    <tr>\n",
       "      <th>50</th>\n",
       "      <td>PHOTO 18Hz</td>\n",
       "      <td>17526000000</td>\n",
       "      <td>1752.600</td>\n",
       "    </tr>\n",
       "    <tr>\n",
       "      <th>51</th>\n",
       "      <td>PHOTO 20Hz</td>\n",
       "      <td>17626000000</td>\n",
       "      <td>1762.600</td>\n",
       "    </tr>\n",
       "    <tr>\n",
       "      <th>52</th>\n",
       "      <td>eyes held closed by</td>\n",
       "      <td>18038310000</td>\n",
       "      <td>1803.831</td>\n",
       "    </tr>\n",
       "    <tr>\n",
       "      <th>53</th>\n",
       "      <td>eyes closed by tech</td>\n",
       "      <td>18232610000</td>\n",
       "      <td>1823.261</td>\n",
       "    </tr>\n",
       "    <tr>\n",
       "      <th>54</th>\n",
       "      <td>SPASM?</td>\n",
       "      <td>18367010000</td>\n",
       "      <td>1836.701</td>\n",
       "    </tr>\n",
       "    <tr>\n",
       "      <th>55</th>\n",
       "      <td>SPASM?</td>\n",
       "      <td>18710300000</td>\n",
       "      <td>1871.030</td>\n",
       "    </tr>\n",
       "    <tr>\n",
       "      <th>56</th>\n",
       "      <td>SPASM</td>\n",
       "      <td>19014460000</td>\n",
       "      <td>1901.446</td>\n",
       "    </tr>\n",
       "    <tr>\n",
       "      <th>57</th>\n",
       "      <td>SPASM</td>\n",
       "      <td>19388010000</td>\n",
       "      <td>1938.801</td>\n",
       "    </tr>\n",
       "    <tr>\n",
       "      <th>58</th>\n",
       "      <td>removed neckroll</td>\n",
       "      <td>19857900000</td>\n",
       "      <td>1985.790</td>\n",
       "    </tr>\n",
       "    <tr>\n",
       "      <th>59</th>\n",
       "      <td>fussing</td>\n",
       "      <td>19928480000</td>\n",
       "      <td>1992.848</td>\n",
       "    </tr>\n",
       "    <tr>\n",
       "      <th>60</th>\n",
       "      <td>whimpering</td>\n",
       "      <td>20161040000</td>\n",
       "      <td>2016.104</td>\n",
       "    </tr>\n",
       "    <tr>\n",
       "      <th>61</th>\n",
       "      <td>sneezing</td>\n",
       "      <td>20695670000</td>\n",
       "      <td>2069.567</td>\n",
       "    </tr>\n",
       "    <tr>\n",
       "      <th>62</th>\n",
       "      <td>sneezing</td>\n",
       "      <td>21130030000</td>\n",
       "      <td>2113.003</td>\n",
       "    </tr>\n",
       "    <tr>\n",
       "      <th>63</th>\n",
       "      <td>whimpering</td>\n",
       "      <td>21685980000</td>\n",
       "      <td>2168.598</td>\n",
       "    </tr>\n",
       "    <tr>\n",
       "      <th>64</th>\n",
       "      <td>quiet</td>\n",
       "      <td>22029380000</td>\n",
       "      <td>2202.938</td>\n",
       "    </tr>\n",
       "    <tr>\n",
       "      <th>65</th>\n",
       "      <td>quiet</td>\n",
       "      <td>22168930000</td>\n",
       "      <td>2216.893</td>\n",
       "    </tr>\n",
       "  </tbody>\n",
       "</table>\n",
       "<p>66 rows × 3 columns</p>\n",
       "</div>"
      ],
      "text/plain": [
       "                    text  starts100ns  starts_sec\n",
       "0   REC START Biocal CAL            0       0.000\n",
       "1              A1+A2 OFF     11400000       1.140\n",
       "2         PAT Biocal EEG     61900000       6.190\n",
       "3           PAT A_DB EEG    114200000      11.420\n",
       "4           IMP CHECK ON    564500000      56.450\n",
       "5          IMP CHECK OFF    593500000      59.350\n",
       "6   resting on right sid    731150000      73.115\n",
       "7     head on right side    772180000      77.218\n",
       "8       head on neckroll    809810000      80.981\n",
       "9        nursnig quietly    856350000      85.635\n",
       "10         01 spike wave   1661970000     166.197\n",
       "11       nursing quietly   2262760000     226.276\n",
       "12         head movement   2429420000     242.942\n",
       "13            whimpering   2543050000     254.305\n",
       "14         nursing again   2668330000     266.833\n",
       "15    PAT B_IPSIEARS EEG   3041200000     304.120\n",
       "16      PAT G_CIRCLE EEG   3682900000     368.290\n",
       "17       PAT J_T1/T2 EEG   4924600000     492.460\n",
       "18      sleeping quietly   4969760000     496.976\n",
       "19          done nursing   5303080000     530.308\n",
       "20          PAT A_DB EEG   6245300000     624.530\n",
       "21      quietly sleeping   6387370000     638.737\n",
       "22            R spindles   6948450000     694.845\n",
       "23            R spindles   7391120000     739.112\n",
       "24      R sleep spindles   7637360000     763.736\n",
       "25      sleeping quietly   8069910000     806.991\n",
       "26      R sleep spindles   9620170000     962.017\n",
       "27      sleeping quietly  10266330000    1026.633\n",
       "28          awakening pt  12977750000    1297.775\n",
       "29   mom talking to baby  13062420000    1306.242\n",
       "..                   ...          ...         ...\n",
       "36  holding rattle w/ bo  14787490000    1478.749\n",
       "37               smiling  15278720000    1527.872\n",
       "38            stretching  15416540000    1541.654\n",
       "39  laying happily on be  15769740000    1576.974\n",
       "40               smiling  16119960000    1611.996\n",
       "41             PHOTO 2Hz  16724300000    1672.430\n",
       "42             PHOTO 4Hz  16826500000    1682.650\n",
       "43  staring right at lig  16856500000    1685.650\n",
       "44             PHOTO 6Hz  16925800000    1692.580\n",
       "45             PHOTO 8Hz  17026000000    1702.600\n",
       "46            PHOTO 10Hz  17126000000    1712.600\n",
       "47            PHOTO 12Hz  17225900000    1722.590\n",
       "48            PHOTO 14Hz  17326100000    1732.610\n",
       "49            PHOTO 16Hz  17425900000    1742.590\n",
       "50            PHOTO 18Hz  17526000000    1752.600\n",
       "51            PHOTO 20Hz  17626000000    1762.600\n",
       "52   eyes held closed by  18038310000    1803.831\n",
       "53   eyes closed by tech  18232610000    1823.261\n",
       "54                SPASM?  18367010000    1836.701\n",
       "55                SPASM?  18710300000    1871.030\n",
       "56                 SPASM  19014460000    1901.446\n",
       "57                 SPASM  19388010000    1938.801\n",
       "58      removed neckroll  19857900000    1985.790\n",
       "59               fussing  19928480000    1992.848\n",
       "60            whimpering  20161040000    2016.104\n",
       "61              sneezing  20695670000    2069.567\n",
       "62              sneezing  21130030000    2113.003\n",
       "63            whimpering  21685980000    2168.598\n",
       "64                 quiet  22029380000    2202.938\n",
       "65                 quiet  22168930000    2216.893\n",
       "\n",
       "[66 rows x 3 columns]"
      ]
     },
     "execution_count": 37,
     "metadata": {},
     "output_type": "execute_result"
    }
   ],
   "source": [
    "df # look at the annotations"
   ]
  },
  {
   "cell_type": "code",
   "execution_count": 38,
   "metadata": {
    "collapsed": false,
    "slideshow": {
     "slide_type": "skip"
    }
   },
   "outputs": [
    {
     "data": {
      "text/html": [
       "<div>\n",
       "<table border=\"1\" class=\"dataframe\">\n",
       "  <thead>\n",
       "    <tr style=\"text-align: right;\">\n",
       "      <th></th>\n",
       "      <th>text</th>\n",
       "      <th>starts100ns</th>\n",
       "      <th>starts_sec</th>\n",
       "    </tr>\n",
       "  </thead>\n",
       "  <tbody>\n",
       "  </tbody>\n",
       "</table>\n",
       "</div>"
      ],
      "text/plain": [
       "Empty DataFrame\n",
       "Columns: [text, starts100ns, starts_sec]\n",
       "Index: []"
      ]
     },
     "execution_count": 38,
     "metadata": {},
     "output_type": "execute_result"
    }
   ],
   "source": [
    "df[df.text.str.contains('sz',case=False)]"
   ]
  },
  {
   "cell_type": "code",
   "execution_count": 39,
   "metadata": {
    "collapsed": false,
    "slideshow": {
     "slide_type": "slide"
    }
   },
   "outputs": [
    {
     "data": {
      "text/html": [
       "<div>\n",
       "<table border=\"1\" class=\"dataframe\">\n",
       "  <thead>\n",
       "    <tr style=\"text-align: right;\">\n",
       "      <th></th>\n",
       "      <th>text</th>\n",
       "      <th>starts100ns</th>\n",
       "      <th>starts_sec</th>\n",
       "    </tr>\n",
       "  </thead>\n",
       "  <tbody>\n",
       "  </tbody>\n",
       "</table>\n",
       "</div>"
      ],
      "text/plain": [
       "Empty DataFrame\n",
       "Columns: [text, starts100ns, starts_sec]\n",
       "Index: []"
      ]
     },
     "execution_count": 39,
     "metadata": {},
     "output_type": "execute_result"
    }
   ],
   "source": [
    "df[df.text.str.contains('seizure',case=False)] # find the seizure"
   ]
  },
  {
   "cell_type": "code",
   "execution_count": 41,
   "metadata": {
    "collapsed": false
   },
   "outputs": [
    {
     "data": {
      "text/html": [
       "<div>\n",
       "<table border=\"1\" class=\"dataframe\">\n",
       "  <thead>\n",
       "    <tr style=\"text-align: right;\">\n",
       "      <th></th>\n",
       "      <th>text</th>\n",
       "      <th>starts100ns</th>\n",
       "      <th>starts_sec</th>\n",
       "    </tr>\n",
       "  </thead>\n",
       "  <tbody>\n",
       "    <tr>\n",
       "      <th>54</th>\n",
       "      <td>SPASM?</td>\n",
       "      <td>18367010000</td>\n",
       "      <td>1836.701</td>\n",
       "    </tr>\n",
       "    <tr>\n",
       "      <th>55</th>\n",
       "      <td>SPASM?</td>\n",
       "      <td>18710300000</td>\n",
       "      <td>1871.030</td>\n",
       "    </tr>\n",
       "    <tr>\n",
       "      <th>56</th>\n",
       "      <td>SPASM</td>\n",
       "      <td>19014460000</td>\n",
       "      <td>1901.446</td>\n",
       "    </tr>\n",
       "    <tr>\n",
       "      <th>57</th>\n",
       "      <td>SPASM</td>\n",
       "      <td>19388010000</td>\n",
       "      <td>1938.801</td>\n",
       "    </tr>\n",
       "  </tbody>\n",
       "</table>\n",
       "</div>"
      ],
      "text/plain": [
       "      text  starts100ns  starts_sec\n",
       "54  SPASM?  18367010000    1836.701\n",
       "55  SPASM?  18710300000    1871.030\n",
       "56   SPASM  19014460000    1901.446\n",
       "57   SPASM  19388010000    1938.801"
      ]
     },
     "execution_count": 41,
     "metadata": {},
     "output_type": "execute_result"
    }
   ],
   "source": [
    "df[df.text.str.contains('spasm',case=False)] # find the seizure"
   ]
  },
  {
   "cell_type": "code",
   "execution_count": 40,
   "metadata": {
    "collapsed": false,
    "slideshow": {
     "slide_type": "slide"
    }
   },
   "outputs": [
    {
     "data": {
      "text/plain": [
       "[('durations_char16',\n",
       "  <HDF5 dataset \"durations_char16\": shape (66,), type \"|S16\">),\n",
       " ('starts_100ns', <HDF5 dataset \"starts_100ns\": shape (66,), type \"<i8\">),\n",
       " ('texts', <HDF5 dataset \"texts\": shape (66,), type \"|O\">)]"
      ]
     },
     "execution_count": 40,
     "metadata": {},
     "output_type": "execute_result"
    }
   ],
   "source": [
    "list(annot.items())"
   ]
  },
  {
   "cell_type": "code",
   "execution_count": null,
   "metadata": {
    "collapsed": true
   },
   "outputs": [],
   "source": []
  },
  {
   "cell_type": "code",
   "execution_count": null,
   "metadata": {
    "collapsed": true
   },
   "outputs": [],
   "source": []
  },
  {
   "cell_type": "code",
   "execution_count": null,
   "metadata": {
    "collapsed": true
   },
   "outputs": [],
   "source": []
  },
  {
   "cell_type": "code",
   "execution_count": null,
   "metadata": {
    "collapsed": true
   },
   "outputs": [],
   "source": []
  },
  {
   "cell_type": "code",
   "execution_count": null,
   "metadata": {
    "collapsed": true
   },
   "outputs": [],
   "source": []
  }
 ],
 "metadata": {
  "celltoolbar": "Slideshow",
  "kernelspec": {
   "display_name": "Python [conda env:py35]",
   "language": "python",
   "name": "conda-env-py35-py"
  },
  "language_info": {
   "codemirror_mode": {
    "name": "ipython",
    "version": 3
   },
   "file_extension": ".py",
   "mimetype": "text/x-python",
   "name": "python",
   "nbconvert_exporter": "python",
   "pygments_lexer": "ipython3",
   "version": "3.5.3"
  }
 },
 "nbformat": 4,
 "nbformat_minor": 2
}
